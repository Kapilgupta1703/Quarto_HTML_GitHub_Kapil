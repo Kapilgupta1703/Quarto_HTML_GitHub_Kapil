{
  "cells": [
    {
      "cell_type": "markdown",
      "source": [
        "#**Spring 2025 BAA1030 Data Analytics & Story Telling (20074)**\n",
        "\n",
        "Kapil Devkant Gupta\n",
        "\n",
        "A00011783\n",
        "\n",
        "Assignment 2: Quarto Report\n"
      ],
      "metadata": {
        "id": "75CBQe2cuyje"
      },
      "id": "75CBQe2cuyje"
    },
    {
      "cell_type": "markdown",
      "id": "93b4fdc5",
      "metadata": {
        "id": "93b4fdc5"
      },
      "source": [
        "# **Wealth, Health, and Gender: A Global Look at Adolescent Inactivity and Child Deprivation**\n",
        "\n",
        "#**Introduction**\n",
        "This dashboard explores the interconnectedness of economic prosperity, adolescent health, and gender inequality around the world. Using real-world data from UNICEF, we uncover how wealth shapes — but does not fully determine — childhood deprivation and physical inactivity patterns, especially among adolescent girls.The story progresses from highlighting the worst-affected countries to analyzing long-term trends and gender disparities."
      ]
    },
    {
      "cell_type": "code",
      "execution_count": null,
      "id": "6dbe4760",
      "metadata": {
        "colab": {
          "base_uri": "https://localhost:8080/"
        },
        "id": "6dbe4760",
        "outputId": "e42a3072-c2ad-433e-a071-c015e96afcae"
      },
      "outputs": [
        {
          "output_type": "stream",
          "name": "stdout",
          "text": [
            "Requirement already satisfied: plotly in /usr/local/lib/python3.11/dist-packages (5.24.1)\n",
            "Requirement already satisfied: tenacity>=6.2.0 in /usr/local/lib/python3.11/dist-packages (from plotly) (9.1.2)\n",
            "Requirement already satisfied: packaging in /usr/local/lib/python3.11/dist-packages (from plotly) (24.2)\n"
          ]
        }
      ],
      "source": [
        "!pip install plotly\n"
      ]
    },
    {
      "cell_type": "code",
      "execution_count": null,
      "id": "2ec1463e",
      "metadata": {
        "id": "2ec1463e"
      },
      "outputs": [],
      "source": [
        "# Imports\n",
        "import polars as pl\n",
        "from plotnine import *\n",
        "import matplotlib.pyplot as plt\n",
        "import geopandas as gpd\n",
        "import plotly.express as px\n",
        "\n",
        "indicator_1 = pl.read_csv('/content/Contents/unicef_indicator_1 (1).csv')\n",
        "indicator_2 = pl.read_csv('/content/Contents/unicef_indicator_2 (1).csv')\n",
        "metadata = pl.read_csv(\n",
        "    '/content/Contents/unicef_metadata (1).csv',\n",
        "    infer_schema_length=10000,\n",
        "    try_parse_dates=True,\n",
        "    schema_overrides={\"Population, total\": pl.Float64}\n",
        ")"
      ]
    },
    {
      "cell_type": "code",
      "execution_count": null,
      "id": "596b05b8",
      "metadata": {
        "id": "596b05b8"
      },
      "outputs": [],
      "source": [
        "import polars as pl\n",
        "\n",
        "# 1️⃣ Preprocess: Top 10 countries with highest adolescent physical inactivity (latest year)\n",
        "inactivity_female = indicator_1.filter(pl.col(\"sex\") == \"Female\")\n",
        "\n",
        "inactivity_latest = (\n",
        "    inactivity_female.sort(\"time_period\")\n",
        "    .group_by(\"country\")\n",
        "    .agg(pl.all().last())\n",
        ")\n",
        "\n",
        "top10_inactive = (\n",
        "    inactivity_latest.sort(\"obs_value\", descending=True)\n",
        "    .head(10)\n",
        ")\n",
        "\n",
        "# 2️⃣ Preprocess for Scatterplot (Deprivation vs GDP)\n",
        "\n",
        "deprivation_recent = (\n",
        "    indicator_2.filter(pl.col(\"sex\") == \"Total\")\n",
        "    .sort(\"time_period\")\n",
        "    .group_by(\"country\")\n",
        "    .agg(pl.all().last())\n",
        ")\n",
        "\n",
        "# Merge deprivation with GDP from metadata\n",
        "# Note: in polars, we use join not merge\n",
        "deprivation_gdp = (\n",
        "    deprivation_recent.join(\n",
        "        metadata.select([\"country\", \"year\", \"GDP per capita (constant 2015 US$)\"]),\n",
        "        left_on=[\"country\", \"time_period\"],\n",
        "        right_on=[\"country\", \"year\"],\n",
        "        how=\"inner\"\n",
        "    )\n",
        "    .drop_nulls([\"GDP per capita (constant 2015 US$)\", \"obs_value\"])\n",
        ")\n",
        "\n",
        "# Rename GDP column\n",
        "deprivation_gdp = deprivation_gdp.rename({\"GDP per capita (constant 2015 US$)\": \"gdp_per_capita\"})\n",
        "\n",
        "# 3️⃣ Preprocess: Time series data for selected countries\n",
        "selected_countries = [\"India\", \"Brazil\", \"United States\"]\n",
        "\n",
        "time_series_data = indicator_1.filter(\n",
        "    (pl.col(\"country\").is_in(selected_countries)) &\n",
        "    (pl.col(\"sex\") == \"Female\")\n",
        ")\n",
        "\n",
        "# 4️⃣ Preprocess: Boxplot gender comparison\n",
        "inactivity_latest_gender = (\n",
        "    indicator_1.sort(\"time_period\")\n",
        "    .group_by([\"country\", \"sex\"])\n",
        "    .agg(pl.all().last())\n",
        "    .drop_nulls([\"obs_value\"])\n",
        ")\n"
      ]
    },
    {
      "cell_type": "markdown",
      "id": "df86a4cf",
      "metadata": {
        "id": "df86a4cf"
      },
      "source": [
        "## **1. Top 10 Countries with Female Adolescent Inactivity**\n",
        "\"*Where Girls Are Falling Behind: The Global Hotspots of Adolescent Inactivity\"*\n",
        "\n",
        "\n",
        "**Insight**\n",
        "\n",
        "A small group of countries faces alarmingly high rates of female adolescent inactivity.\n",
        "This signals deeper social, cultural, or infrastructural challenges that limit active lifestyles for girls.\n",
        "Targeted interventions in these hotspots could dramatically improve global adolescent health outcomes.\n",
        "\n",
        "**Visualization**\n",
        "\n",
        "Horizontal Bar Chart showing the top 10 countries ranked by female adolescent inactivity rates.\n",
        "\n"
      ]
    },
    {
      "cell_type": "code",
      "execution_count": null,
      "id": "26df0798",
      "metadata": {
        "id": "26df0798"
      },
      "outputs": [],
      "source": [
        "\n",
        "top10_plot = (\n",
        "    ggplot(top10_inactive, aes(x='reorder(country, obs_value)', y='obs_value'))\n",
        "    + geom_bar(stat='identity', fill='skyblue')\n",
        "    + coord_flip()\n",
        "    + labs(\n",
        "        title='Countries with Highest Female Adolescent Inactivity',\n",
        "        x='Country',\n",
        "        y='Inactivity (%)'\n",
        "    )\n",
        "    + theme_minimal()\n",
        "    + theme(\n",
        "        figure_size=(10, 6),\n",
        "        plot_title=element_text(size=16, weight='bold', ha='center'),  # <-- CENTER the title\n",
        "        axis_title_x=element_text(size=14),\n",
        "        axis_title_y=element_text(size=14),\n",
        "        axis_text_x=element_text(size=12),\n",
        "        axis_text_y=element_text(size=12),\n",
        "        subplots_adjust={'top': 0.9, 'right': 0.95, 'bottom': 0.15, 'left': 0.28}  # Good margins\n",
        "    )\n",
        ")\n",
        "top10_plot\n"
      ]
    },
    {
      "cell_type": "markdown",
      "id": "2dc39714",
      "metadata": {
        "id": "2dc39714"
      },
      "source": [
        "#**2. Relationship between GDP per Capita and Child Deprivation.**#\n",
        "\n",
        "\"*Does More Money Mean Better Childhoods? The Complex Link Between Wealth and Deprivation*\"\n",
        "\n",
        "**Insight**\n",
        "\n",
        "Wealth alone does not guarantee lower child deprivation — though a general negative trend exists. Some countries outperform or underperform relative to their income, revealing important policy lessons. Understanding these exceptions could inspire more effective development strategies worldwide.\n",
        "\n",
        "**Visualization**\n",
        "Scatter Plot with a Linear Regression Line, plotting GDP per Capita vs. Child Deprivation"
      ]
    },
    {
      "cell_type": "code",
      "execution_count": null,
      "id": "46e78fc2",
      "metadata": {
        "id": "46e78fc2"
      },
      "outputs": [],
      "source": [
        "# 📊 Step 2: Create scatterplot with renamed column\n",
        "from plotnine import ggplot, aes, geom_point, geom_smooth, labs, theme_minimal\n",
        "\n",
        "scatter_plot = (\n",
        "    ggplot(deprivation_gdp, aes(x='gdp_per_capita', y='obs_value'))\n",
        "    + geom_point(color='tomato')\n",
        "    + geom_smooth(method='lm', se=False, color='black')\n",
        "    + labs(\n",
        "        title='Child Deprivation vs GDP per Capita',\n",
        "        x='GDP per capita (2015 US$)',\n",
        "        y='Deprivation (%)'\n",
        "    )\n",
        "    + theme_minimal()\n",
        ")\n",
        "scatter_plot\n"
      ]
    },
    {
      "cell_type": "markdown",
      "id": "1901cdea",
      "metadata": {
        "id": "1901cdea"
      },
      "source": [
        "## **3.  Trends in Female Adolescent Inactivity for Selected Countries**\n",
        "\n",
        "\n",
        "\"*Progress or Plateau? Tracking Girls’ Inactivity Rates Over Time*\"\n",
        "\n",
        "**Insight**\n",
        "\n",
        "India, Brazil, and the United States show different trajectories in reducing female adolescent inactivity. While some countries steadily improve, others show worrying reversals or stagnation. Long-term patterns suggest that national policies and social movements significantly influence outcomes.\n",
        "\n",
        "**Visualization**\n",
        "\n",
        " Multi-line Time Series Chart showing inactivity over time for India, Brazil, and the United States.\n",
        "\n"
      ]
    },
    {
      "cell_type": "code",
      "execution_count": null,
      "id": "524d52bf",
      "metadata": {
        "id": "524d52bf"
      },
      "outputs": [],
      "source": [
        "time_series_plot = (\n",
        "    ggplot(time_series_data, aes(x='time_period', y='obs_value', color='country'))\n",
        "    + geom_line() + geom_point()\n",
        "    + labs(title='Adolescent Inactivity Trends in Selected Countries',\n",
        "           x='Year', y='Inactivity (%)')\n",
        "    + theme_minimal()\n",
        ")\n",
        "time_series_plot"
      ]
    },
    {
      "cell_type": "markdown",
      "id": "bf3804b2",
      "metadata": {
        "id": "bf3804b2"
      },
      "source": [
        "## **4.Gender Comparison in Adolescent Inactivity**\n",
        "\n",
        "\"*Mind the Gap: How Gender Shapes Physical Inactivity Among Adolescents*\"\n",
        "\n",
        "**Insight**\n",
        "\n",
        "Across the world, adolescent girls consistently report higher inactivity rates than boys. This persistent gender gap underscores the urgent need for girl-focused sports and health initiatives. Without closing this gap, broader public health goals will remain out of reach.\n",
        "\n",
        "**Visualization**\n",
        "\n",
        "Boxplot comparing adolescent inactivity between males and females globally.\n",
        "\n"
      ]
    },
    {
      "cell_type": "code",
      "execution_count": null,
      "id": "f25436b9",
      "metadata": {
        "id": "f25436b9"
      },
      "outputs": [],
      "source": [
        "from plotnine import ggplot, aes, geom_boxplot, labs, theme_minimal, scale_fill_manual\n",
        "\n",
        "# Updated boxplot: Female = Skyblue, Male = Red, Total = Purple\n",
        "box_plot = (\n",
        "    ggplot(inactivity_latest_gender, aes(x='sex', y='obs_value', fill='sex'))\n",
        "    + geom_boxplot()\n",
        "    + scale_fill_manual(values={\n",
        "        'Female': 'skyblue',\n",
        "        'Male': 'red',\n",
        "        'Total': 'purple'  # mixed color for Total\n",
        "    })\n",
        "    + labs(\n",
        "        title='Comparison of Adolescent Inactivity by Gender and Total',\n",
        "        x='Gender Category',\n",
        "        y='Inactivity (%)'\n",
        "    )\n",
        "    + theme_minimal()\n",
        ")\n",
        "\n",
        "box_plot"
      ]
    },
    {
      "cell_type": "markdown",
      "id": "932ee525",
      "metadata": {
        "id": "932ee525"
      },
      "source": [
        "#**5. Global Distribution of Child Deprivation (Globe View)**\n",
        "\n",
        "\"*Mapping Child Deprivation Around the Globe*\"\n",
        "\n",
        "\n",
        "**Insight**\n",
        "\n",
        "Child deprivation is not uniformly distributed — it clusters heavily in regions like Sub-Saharan Africa, South Asia, and parts of Latin America.Some high-income countries show near-zero deprivation, while several low and middle-income countries face extremely high rates. This global view underscores how urgent and geographically targeted interventions are necessary to address global childhood inequalities.\n",
        "\n",
        "**Visualisation**\n",
        "\n",
        "3D Rotatable Globe (Plotly Choropleth Globe)\n",
        "\n"
      ]
    },
    {
      "cell_type": "code",
      "execution_count": null,
      "id": "817e7407",
      "metadata": {
        "id": "817e7407"
      },
      "outputs": [],
      "source": [
        "import plotly.express as px\n",
        "\n",
        "fig = px.choropleth(\n",
        "    deprivation_recent,\n",
        "    locations=\"alpha_3_code\",\n",
        "    color=\"obs_value\",\n",
        "    hover_name=\"country\",\n",
        "    color_continuous_scale=\"OrRd\",\n",
        "    projection=\"orthographic\",\n",
        "    title=\"Children Experiencing Severe Deprivation (Most Recent Data)\"\n",
        ")\n",
        "\n",
        "fig.update_layout(\n",
        "    geo=dict(\n",
        "        showframe=False,\n",
        "        showcoastlines=True,\n",
        "        projection_type='orthographic',\n",
        "        landcolor='lightgray',\n",
        "        oceancolor='lightblue',\n",
        "        showocean=True,\n",
        "        bgcolor='rgba(0,0,0,0)',  # transparent background\n",
        "    ),\n",
        "    coloraxis_colorbar=dict(title=\"Deprivation (%)\")\n",
        ")\n",
        "\n",
        "fig.show()\n"
      ]
    },
    {
      "cell_type": "markdown",
      "id": "c3da1ca3",
      "metadata": {
        "id": "c3da1ca3"
      },
      "source": [
        "## **Conclusion**\n",
        "\n",
        "This analysis examines global patterns of adolescent physical inactivity and child deprivation, revealing deep inequalities across countries and genders. The top 10 countries with the highest female inactivity rates highlight urgent areas for public health intervention. A scatterplot analysis shows that while wealth generally reduces child deprivation, the relationship is far from perfect. Trends over time for India, Brazil, and the U.S. expose varying national progress in promoting youth health.\n",
        "Gender comparisons emphasize persistent disparities requiring targeted action. The globe visualization powerfully illustrates how child deprivation remains heavily regionalized, urging collective global efforts for more inclusive development."
      ]
    }
  ],
  "metadata": {
    "colab": {
      "provenance": []
    },
    "language_info": {
      "name": "python"
    },
    "kernelspec": {
      "name": "python3",
      "display_name": "Python 3"
    }
  },
  "nbformat": 4,
  "nbformat_minor": 5
}